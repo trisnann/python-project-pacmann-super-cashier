{
 "cells": [
  {
   "cell_type": "markdown",
   "id": "c14b8b87-a1c6-497a-ab43-3dc7c1f2dede",
   "metadata": {},
   "source": [
    "**Import Module**"
   ]
  },
  {
   "cell_type": "code",
   "execution_count": 34,
   "id": "489e24f6-b790-4eb0-b51f-05f7e7bcb068",
   "metadata": {},
   "outputs": [],
   "source": [
    "import cashier"
   ]
  },
  {
   "cell_type": "markdown",
   "id": "28e30464-58b1-4b2e-b3c3-a1a5995d7b42",
   "metadata": {},
   "source": [
    "**Inisiasi object pada kelas Transaction**"
   ]
  },
  {
   "cell_type": "code",
   "execution_count": 35,
   "id": "5a57ebeb-56b6-453d-9521-da4a1b03d86f",
   "metadata": {},
   "outputs": [],
   "source": [
    "trnsct_123 = cashier.Transaction()"
   ]
  },
  {
   "cell_type": "markdown",
   "id": "40f22e17-e2ab-4a01-a6af-fd6b18137762",
   "metadata": {},
   "source": [
    "**Test 1**\n",
    "<br>\n",
    "Customer ingin <u>menambahkan</u> dua item baru menggunakan method _**add_item()**_. Item yang ditambahkan sebagai berikut :\n",
    "- Nama Item: Ayam Goreng, Qty: 2, Harga: 20000\n",
    "- Nama Item: Pasta Gigi, Qty: 3, Harga: 15000"
   ]
  },
  {
   "cell_type": "code",
   "execution_count": 36,
   "id": "dd880ff8-d611-488b-b8ba-fb16bf6d9e50",
   "metadata": {},
   "outputs": [],
   "source": [
    "trnsct_123.add_item(\"Ayam Goreng\", 2, 20000)\n",
    "trnsct_123.add_item(\"Pasta Gigi\", 3, 15000)"
   ]
  },
  {
   "cell_type": "code",
   "execution_count": 37,
   "id": "2efc1e5e",
   "metadata": {},
   "outputs": [
    {
     "name": "stdout",
     "output_type": "stream",
     "text": [
      "\n",
      "Berikut daftar pesanan Anda\n",
      "\n",
      "|   No. | Nama Item   |   Jumlah Item |   Harga per Item |   Total Harga |\n",
      "|-------|-------------|---------------|------------------|---------------|\n",
      "|     1 | Ayam Goreng |             2 |            20000 |         40000 |\n",
      "|     2 | Pasta Gigi  |             3 |            15000 |         45000 |\n"
     ]
    }
   ],
   "source": [
    "trnsct_123.show_order()"
   ]
  },
  {
   "cell_type": "markdown",
   "id": "53303bde-2072-442e-9f47-ebda045784f3",
   "metadata": {},
   "source": [
    "**Test 2**\n",
    "<br>\n",
    "Customer salah membeli item dari belanjaan yang sudah ditambahkan, \n",
    "<br>maka Customer menggunakan method _**delete_item()**_ untuk <u>menghapus item</u>. \n",
    "<br>\n",
    "Item yang dihapus adalah Pasta Gigi."
   ]
  },
  {
   "cell_type": "code",
   "execution_count": 38,
   "id": "3249ca11-e84e-4591-a3cc-07b11dccd240",
   "metadata": {},
   "outputs": [
    {
     "name": "stdout",
     "output_type": "stream",
     "text": [
      "Pasta Gigi berhasil dihapus dari daftar pesanan\n"
     ]
    }
   ],
   "source": [
    "trnsct_123.delete_item(\"Pasta Gigi\")"
   ]
  },
  {
   "cell_type": "code",
   "execution_count": 39,
   "id": "8600c6d9",
   "metadata": {},
   "outputs": [
    {
     "name": "stdout",
     "output_type": "stream",
     "text": [
      "\n",
      "Berikut daftar pesanan Anda\n",
      "\n",
      "|   No. | Nama Item   |   Jumlah Item |   Harga per Item |   Total Harga |\n",
      "|-------|-------------|---------------|------------------|---------------|\n",
      "|     1 | Ayam Goreng |             2 |            20000 |         40000 |\n"
     ]
    }
   ],
   "source": [
    "trnsct_123.show_order()"
   ]
  },
  {
   "cell_type": "markdown",
   "id": "bba5d715-9cf2-49a0-94d3-8337e86c99d6",
   "metadata": {},
   "source": [
    "Customer menambahkan item baru :\n",
    "- Nama Item: Gula Pasir, Qty: 3, Harga: 10000\n",
    "- Nama Item: Shampo , Qty: 2, Harga: 13000"
   ]
  },
  {
   "cell_type": "code",
   "execution_count": 40,
   "id": "30b012ba-1655-4a2e-85e2-9477427b4ab4",
   "metadata": {},
   "outputs": [],
   "source": [
    "trnsct_123.add_item(\"Gula Pasir\", 3, 10000)\n",
    "trnsct_123.add_item(\"Shampo\", 2, 13000)"
   ]
  },
  {
   "cell_type": "code",
   "execution_count": 41,
   "id": "e889d949",
   "metadata": {},
   "outputs": [
    {
     "name": "stdout",
     "output_type": "stream",
     "text": [
      "\n",
      "Berikut daftar pesanan Anda\n",
      "\n",
      "|   No. | Nama Item   |   Jumlah Item |   Harga per Item |   Total Harga |\n",
      "|-------|-------------|---------------|------------------|---------------|\n",
      "|     1 | Ayam Goreng |             2 |            20000 |         40000 |\n",
      "|     2 | Gula Pasir  |             3 |            10000 |         30000 |\n",
      "|     3 | Shampo      |             2 |            13000 |         26000 |\n"
     ]
    }
   ],
   "source": [
    "trnsct_123.show_order()"
   ]
  },
  {
   "cell_type": "markdown",
   "id": "d1f4882e-76e1-484c-b030-abe8ab69be19",
   "metadata": {},
   "source": [
    "Customer salah memasukkan nama item.\n",
    "<br>\n",
    "<u>Ubah nama item</u> Gula Pasir menjadi Gula Merah menggunakan method _**update_item_name()**_."
   ]
  },
  {
   "cell_type": "code",
   "execution_count": 42,
   "id": "4ba8fd98-28e9-49f5-98c3-56a2396abb29",
   "metadata": {},
   "outputs": [],
   "source": [
    "trnsct_123.update_item_name(\"Gula Pasir\", \"Gula Merah\")"
   ]
  },
  {
   "cell_type": "code",
   "execution_count": 43,
   "id": "1f582e92",
   "metadata": {},
   "outputs": [
    {
     "name": "stdout",
     "output_type": "stream",
     "text": [
      "\n",
      "Berikut daftar pesanan Anda\n",
      "\n",
      "|   No. | Nama Item   |   Jumlah Item |   Harga per Item |   Total Harga |\n",
      "|-------|-------------|---------------|------------------|---------------|\n",
      "|     1 | Ayam Goreng |             2 |            20000 |         40000 |\n",
      "|     2 | Shampo      |             2 |            13000 |         26000 |\n",
      "|     3 | Gula Merah  |             3 |            10000 |         30000 |\n"
     ]
    }
   ],
   "source": [
    "trnsct_123.show_order()"
   ]
  },
  {
   "cell_type": "markdown",
   "id": "e4f8729d-9915-4cec-9df8-347ccf2fbb3e",
   "metadata": {
    "tags": []
   },
   "source": [
    "Customer salah memasukkan jumlah item.\n",
    "<br>\n",
    "<u>Ubah jumlah item</u> Ayam Goreng yang awalnya 2 menjadi 4 menggunakan method _**update_item_qty**_."
   ]
  },
  {
   "cell_type": "code",
   "execution_count": 44,
   "id": "e85a69e9-80e0-4aa8-9e62-6c7ae393303f",
   "metadata": {},
   "outputs": [],
   "source": [
    "trnsct_123.update_item_qty(\"Ayam Goreng\", 4)"
   ]
  },
  {
   "cell_type": "code",
   "execution_count": 45,
   "id": "d8976d87",
   "metadata": {},
   "outputs": [
    {
     "name": "stdout",
     "output_type": "stream",
     "text": [
      "\n",
      "Berikut daftar pesanan Anda\n",
      "\n",
      "|   No. | Nama Item   |   Jumlah Item |   Harga per Item |   Total Harga |\n",
      "|-------|-------------|---------------|------------------|---------------|\n",
      "|     1 | Ayam Goreng |             4 |            20000 |         80000 |\n",
      "|     2 | Shampo      |             2 |            13000 |         26000 |\n",
      "|     3 | Gula Merah  |             3 |            10000 |         30000 |\n"
     ]
    }
   ],
   "source": [
    "trnsct_123.show_order()"
   ]
  },
  {
   "cell_type": "markdown",
   "id": "5a0f12cd-fe99-4ed7-9e17-045b5ce46d16",
   "metadata": {},
   "source": [
    "Customer salah memasukkan harga item.\n",
    "<br>\n",
    "<u>Ubah harga item</u> Shampo yang awalnya 13000 menjadi 9000 menggunakan method _**update_item_price**_."
   ]
  },
  {
   "cell_type": "code",
   "execution_count": 46,
   "id": "d76c34d2-0a20-438c-9207-f29bd5723617",
   "metadata": {},
   "outputs": [],
   "source": [
    "trnsct_123.update_item_price(\"Shampo\", 9000)"
   ]
  },
  {
   "cell_type": "code",
   "execution_count": 47,
   "id": "56cbc8d1",
   "metadata": {},
   "outputs": [
    {
     "name": "stdout",
     "output_type": "stream",
     "text": [
      "\n",
      "Berikut daftar pesanan Anda\n",
      "\n",
      "|   No. | Nama Item   |   Jumlah Item |   Harga per Item |   Total Harga |\n",
      "|-------|-------------|---------------|------------------|---------------|\n",
      "|     1 | Ayam Goreng |             4 |            20000 |         80000 |\n",
      "|     2 | Shampo      |             2 |             9000 |         18000 |\n",
      "|     3 | Gula Merah  |             3 |            10000 |         30000 |\n"
     ]
    }
   ],
   "source": [
    "trnsct_123.show_order()"
   ]
  },
  {
   "cell_type": "markdown",
   "id": "ab6ffe3d-f6b7-49fa-9652-986c16e0cf3d",
   "metadata": {},
   "source": [
    "**Test 3**\n",
    "<br>\n",
    "Customer salah memasukkan semua item yang ingin dibelanjakan.Daripada menghapus satu-satu,\n",
    "<br>\n",
    "maka Customer menggunakan method _**reset_transaction()**_ untuk <u>menghapus semua item yang sudah ditambahakan</u>."
   ]
  },
  {
   "cell_type": "code",
   "execution_count": 48,
   "id": "7a9aa628-06eb-4c79-9856-f9ff104db1af",
   "metadata": {},
   "outputs": [
    {
     "name": "stdout",
     "output_type": "stream",
     "text": [
      "Semua item berhasil dihapus.\n",
      "Anda tidak memiliki daftar pesanan.\n"
     ]
    }
   ],
   "source": [
    "trnsct_123.reset_transaction()"
   ]
  },
  {
   "cell_type": "code",
   "execution_count": 49,
   "id": "850a7a8d",
   "metadata": {},
   "outputs": [
    {
     "name": "stdout",
     "output_type": "stream",
     "text": [
      "\n",
      "Berikut daftar pesanan Anda\n",
      "\n",
      "| No.   | Nama Item   | Jumlah Item   | Harga per Item   | Total Harga   |\n",
      "|-------|-------------|---------------|------------------|---------------|\n"
     ]
    }
   ],
   "source": [
    "trnsct_123.show_order()"
   ]
  },
  {
   "cell_type": "markdown",
   "id": "c10fdd84-e6f8-4412-b36d-f51d97c58dcc",
   "metadata": {},
   "source": [
    "Customer menambahkan item baru :\n",
    "- Nama Item: Ayam Goreng, Qty: 2, Harga: 20000\n",
    "- Nama Item: Pasta Gigi, Qty: 3, Harga: 15000\n",
    "- Nama Item: Mainan Mobil, Qty: 1, Harga: 200000\n",
    "- Nama Item: Mie Instan, Qty: 5, Harga: 3000"
   ]
  },
  {
   "cell_type": "code",
   "execution_count": 50,
   "id": "9fe1fa32-a4c9-4bf6-9579-172e78bb359a",
   "metadata": {},
   "outputs": [],
   "source": [
    "trnsct_123.add_item(\"Ayam Goreng\", 2, 20000)\n",
    "trnsct_123.add_item(\"Pasta Gigi\", 3, 15000)\n",
    "trnsct_123.add_item(\"Mainan Mobil\", 1, 200000)\n",
    "trnsct_123.add_item(\"Mie Instan\", 5, 3000)"
   ]
  },
  {
   "cell_type": "code",
   "execution_count": 51,
   "id": "906d27ad",
   "metadata": {},
   "outputs": [
    {
     "name": "stdout",
     "output_type": "stream",
     "text": [
      "\n",
      "Berikut daftar pesanan Anda\n",
      "\n",
      "|   No. | Nama Item    |   Jumlah Item |   Harga per Item |   Total Harga |\n",
      "|-------|--------------|---------------|------------------|---------------|\n",
      "|     1 | Ayam Goreng  |             2 |            20000 |         40000 |\n",
      "|     2 | Pasta Gigi   |             3 |            15000 |         45000 |\n",
      "|     3 | Mainan Mobil |             1 |           200000 |        200000 |\n",
      "|     4 | Mie Instan   |             5 |             3000 |         15000 |\n"
     ]
    }
   ],
   "source": [
    "trnsct_123.show_order()"
   ]
  },
  {
   "cell_type": "markdown",
   "id": "a24f13a4-8467-4b09-b66f-00d0fd65c243",
   "metadata": {
    "tags": []
   },
   "source": [
    "Setelah selesai memasukkan seluruh pesanan, Customer ragu terhadap data yang ditambahkan.\n",
    "<br>\n",
    "Dapat dilakukan <u>pengecekan data pesanan</u> menggunakan _**check_order()**_."
   ]
  },
  {
   "cell_type": "code",
   "execution_count": 52,
   "id": "0fbbcb6c",
   "metadata": {},
   "outputs": [
    {
     "name": "stdout",
     "output_type": "stream",
     "text": [
      "\n",
      "Berikut daftar pesanan Anda\n",
      "\n",
      "|   No. | Nama Item    |   Jumlah Item |   Harga per Item |   Total Harga |\n",
      "|-------|--------------|---------------|------------------|---------------|\n",
      "|     1 | Ayam Goreng  |             2 |            20000 |         40000 |\n",
      "|     2 | Pasta Gigi   |             3 |            15000 |         45000 |\n",
      "|     3 | Mainan Mobil |             1 |           200000 |        200000 |\n",
      "|     4 | Mie Instan   |             5 |             3000 |         15000 |\n"
     ]
    }
   ],
   "source": [
    "trnsct_123.show_order()"
   ]
  },
  {
   "cell_type": "code",
   "execution_count": 53,
   "id": "9ff0f28c-6ce5-4b7a-bcc7-3bf02d986dc0",
   "metadata": {},
   "outputs": [
    {
     "data": {
      "text/plain": [
       "'Data pesanan yang diinputkan sudah benar'"
      ]
     },
     "execution_count": 53,
     "metadata": {},
     "output_type": "execute_result"
    }
   ],
   "source": [
    "trnsct_123.check_order()"
   ]
  },
  {
   "cell_type": "markdown",
   "id": "ccdf8cd3-4761-4870-9b98-49627bd57680",
   "metadata": {},
   "source": [
    "**Test 4**\n",
    "<br>\n",
    "Customer sudah selesai berbelanja, hitung <u>total belanjaan</u> yang harus dibayarkan menggukanakan method _**total_price()**_.\n",
    "<br>\n",
    "Sebelum mengelurkan output total belanja, tampilkan item-item yang dibeli."
   ]
  },
  {
   "cell_type": "code",
   "execution_count": 54,
   "id": "31be23e9",
   "metadata": {},
   "outputs": [
    {
     "name": "stdout",
     "output_type": "stream",
     "text": [
      "\n",
      "Berikut daftar pesanan Anda\n",
      "\n",
      "|   No. | Nama Item    |   Jumlah Item |   Harga per Item |   Total Harga |\n",
      "|-------|--------------|---------------|------------------|---------------|\n",
      "|     1 | Ayam Goreng  |             2 |            20000 |         40000 |\n",
      "|     2 | Pasta Gigi   |             3 |            15000 |         45000 |\n",
      "|     3 | Mainan Mobil |             1 |           200000 |        200000 |\n",
      "|     4 | Mie Instan   |             5 |             3000 |         15000 |\n"
     ]
    }
   ],
   "source": [
    "trnsct_123.show_order()"
   ]
  },
  {
   "cell_type": "code",
   "execution_count": 55,
   "id": "44c833d3-94fb-4df4-b643-883a3ba39e98",
   "metadata": {},
   "outputs": [
    {
     "name": "stdout",
     "output_type": "stream",
     "text": [
      "\n",
      "Selamat Anda memdapatkan diskon sebesar 5% karena berbelanja lebih dari Rp 200.000\n",
      "Total belanja yang harus dibayarkan setelah diskon sebesar 285000.0\n"
     ]
    }
   ],
   "source": [
    "trnsct_123.total_price()"
   ]
  }
 ],
 "metadata": {
  "kernelspec": {
   "display_name": "Python 3 (ipykernel)",
   "language": "python",
   "name": "python3"
  },
  "language_info": {
   "codemirror_mode": {
    "name": "ipython",
    "version": 3
   },
   "file_extension": ".py",
   "mimetype": "text/x-python",
   "name": "python",
   "nbconvert_exporter": "python",
   "pygments_lexer": "ipython3",
   "version": "3.11.5"
  }
 },
 "nbformat": 4,
 "nbformat_minor": 5
}
